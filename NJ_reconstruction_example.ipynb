{
 "cells": [
  {
   "cell_type": "markdown",
   "metadata": {},
   "source": [
    "Reconstructing a lineage tree from mutation table"
   ]
  },
  {
   "cell_type": "code",
   "execution_count": 1,
   "metadata": {},
   "outputs": [],
   "source": [
    "import os\n",
    "import pandas as pd"
   ]
  },
  {
   "cell_type": "code",
   "execution_count": 2,
   "metadata": {},
   "outputs": [],
   "source": [
    "name = 'SubC3_train_000X'"
   ]
  },
  {
   "cell_type": "code",
   "execution_count": 3,
   "metadata": {},
   "outputs": [],
   "source": [
    "project_dir = 'path_to_Subchallenge3/{}'.format(name)"
   ]
  },
  {
   "cell_type": "code",
   "execution_count": 4,
   "metadata": {},
   "outputs": [],
   "source": [
    "df = pd.read_csv(os.path.join(project_dir,'{}_mutation_table.csv'.format(name)), index_col=0)"
   ]
  },
  {
   "cell_type": "code",
   "execution_count": 5,
   "metadata": {},
   "outputs": [],
   "source": [
    "symbol_map = {\n",
    "    0.0: 1,\n",
    "    '0': 2,\n",
    "    'A': 3,\n",
    "    'B':4,\n",
    "    'C':5,\n",
    "    'D':6,\n",
    "    'E':7,\n",
    "    'F':8,\n",
    "    'G':9,\n",
    "    'H':10,\n",
    "    'I':11,\n",
    "    'J':12,\n",
    "    'K':13,\n",
    "    'L':14,\n",
    "    'M':15,\n",
    "    'N':16,\n",
    "    'O':17,\n",
    "    'P':18,\n",
    "    'Q':19,\n",
    "    'R':20,\n",
    "    'S':21, # Skipping rare characters as we're running out of standard amino acids\n",
    "    'T':22,\n",
    "    'U':23,\n",
    "    'V':24,\n",
    "    '-':25, # Inherited deletion is treated as charcter as it carries information (unlike acquisition dropout)\n",
    "}"
   ]
  },
  {
   "cell_type": "code",
   "execution_count": 6,
   "metadata": {},
   "outputs": [],
   "source": [
    "for col in df.columns:\n",
    "    df[col] = df[col].map(symbol_map)"
   ]
  },
  {
   "cell_type": "code",
   "execution_count": 7,
   "metadata": {},
   "outputs": [],
   "source": [
    "import numpy as np\n",
    "def np_pars(v1, v2):\n",
    "    vs = np.array([v1, v2])\n",
    "    mask = np.isnan(vs[0]) | np.isnan(vs[1])\n",
    "    filtered = vs[:,np.invert(mask)]\n",
    "    if not len(filtered[0]):\n",
    "        ret = 0.5\n",
    "    else:\n",
    "        ret = np.sum(np.abs(filtered[1] != filtered[0]))/len(filtered[0])\n",
    "    return ret"
   ]
  },
  {
   "cell_type": "code",
   "execution_count": 8,
   "metadata": {},
   "outputs": [],
   "source": [
    "from scipy.spatial.distance import squareform, pdist\n",
    "\n",
    "data = squareform(pdist(df, metric=np_pars))"
   ]
  },
  {
   "cell_type": "code",
   "execution_count": 9,
   "metadata": {},
   "outputs": [],
   "source": [
    "dfnn = pd.DataFrame(data).fillna(0.5)"
   ]
  },
  {
   "cell_type": "code",
   "execution_count": 10,
   "metadata": {},
   "outputs": [
    {
     "name": "stderr",
     "output_type": "stream",
     "text": [
      "/home/dcsoft/miniconda3/envs/clpy36/lib/python3.6/site-packages/skbio/util/_testing.py:15: FutureWarning: pandas.util.testing is deprecated. Use the functions in the public API at pandas.testing instead.\n",
      "  import pandas.util.testing as pdt\n"
     ]
    },
    {
     "data": {
      "text/plain": [
       "'/home/dcsoft/s/Ofir/DRAEM/Subchallenge3leaderboard_renamed/SubC3_leaderboard_0003/NJ.newick'"
      ]
     },
     "execution_count": 10,
     "metadata": {},
     "output_type": "execute_result"
    }
   ],
   "source": [
    "from skbio import DistanceMatrix\n",
    "from skbio.tree import nj\n",
    "dm = DistanceMatrix(dfnn, df.index)\n",
    "tree = nj(dm)\n",
    "tree.write(os.path.join(project_dir,'NJ.newick'))"
   ]
  },
  {
   "cell_type": "code",
   "execution_count": 11,
   "metadata": {},
   "outputs": [],
   "source": [
    "import dendropy\n",
    "nj = dendropy.Tree.get_from_path(\n",
    "                    os.path.join(project_dir,'NJ.newick'),\n",
    "                \"newick\")"
   ]
  },
  {
   "cell_type": "code",
   "execution_count": 12,
   "metadata": {},
   "outputs": [
    {
     "data": {
      "text/plain": [
       "<Node object at 0x7f85375259e8: 'None' (<Taxon 0x7f8537525a58 'root'>)>"
      ]
     },
     "execution_count": 12,
     "metadata": {},
     "output_type": "execute_result"
    }
   ],
   "source": [
    "nj.reroot_at_node(nj.find_node_with_taxon_label('root'), update_bipartitions=False)"
   ]
  },
  {
   "cell_type": "code",
   "execution_count": 13,
   "metadata": {},
   "outputs": [],
   "source": [
    "nj.write_to_path(os.path.join(project_dir,'nj.rooted.newick'), schema='newick')"
   ]
  }
 ],
 "metadata": {
  "kernelspec": {
   "display_name": "Python 3",
   "language": "python",
   "name": "python3"
  },
  "language_info": {
   "codemirror_mode": {
    "name": "ipython",
    "version": 3
   },
   "file_extension": ".py",
   "mimetype": "text/x-python",
   "name": "python",
   "nbconvert_exporter": "python",
   "pygments_lexer": "ipython3",
   "version": "3.6.7"
  }
 },
 "nbformat": 4,
 "nbformat_minor": 2
}
