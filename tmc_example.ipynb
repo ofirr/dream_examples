{
 "cells": [
  {
   "cell_type": "markdown",
   "metadata": {},
   "source": [
    "Reconstructing a lineage tree from mutation table"
   ]
  },
  {
   "cell_type": "code",
   "execution_count": 1,
   "metadata": {},
   "outputs": [],
   "source": [
    "import os\n",
    "import sys\n",
    "sys.path.append('path_to_tmc_wrapper')\n",
    "\n",
    "from tmc_wrapper.utils import to_dict_no_nans, memory_expensive_random_choose\n",
    "from tmc_wrapper.TMC_formatting import map_cell_ids_for_sagi, format_triplet, convert_names_in_sagis_newick\n",
    "from tmc_wrapper.triplet_scoring import choose_best_pair, NoIntersectionLociException\n",
    "\n",
    "import pandas as pd"
   ]
  },
  {
   "cell_type": "code",
   "execution_count": 2,
   "metadata": {},
   "outputs": [],
   "source": [
    "project_dir = 'path_to_example'"
   ]
  },
  {
   "cell_type": "code",
   "execution_count": 3,
   "metadata": {},
   "outputs": [],
   "source": [
    "df = pd.read_csv(os.path.join(project_dir,'mutation_table.csv'), index_col='names')"
   ]
  },
  {
   "cell_type": "code",
   "execution_count": 4,
   "metadata": {},
   "outputs": [],
   "source": [
    "d = to_dict_no_nans(df.T)"
   ]
  },
  {
   "cell_type": "code",
   "execution_count": 5,
   "metadata": {},
   "outputs": [],
   "source": [
    "triplets_file = '/tmp/triplets_test.txt'\n",
    "cell_id_map_for_sagi = map_cell_ids_for_sagi(d)\n",
    "with open(triplets_file, 'w') as f:\n",
    "    for triplet in memory_expensive_random_choose(d.keys(), k=3, n=5000):  # For TMC, k has to be 3 (triplet) and n indicates the maximum number of triplets to examine\n",
    "        try:\n",
    "            pair, score = choose_best_pair(triplet, d)\n",
    "        except NoIntersectionLociException:\n",
    "            continue\n",
    "        f.write(format_triplet(triplet, pair, score, cell_id_map_for_sagi, print_scores=True))"
   ]
  },
  {
   "cell_type": "code",
   "execution_count": 6,
   "metadata": {},
   "outputs": [],
   "source": [
    "import os\n",
    "\n",
    "class EmptyTripletsFile(Exception):\n",
    "    pass\n",
    "\n",
    "\n",
    "def run_TMC(triplets_file, output_newick):\n",
    "    # tmc(\n",
    "    #     \"-fid\", triplets_file,\n",
    "    #     \"-frtN\", output_newick)\n",
    "    if os.stat(triplets_file).st_size == 0:\n",
    "        raise EmptyTripletsFile('Empty file: '.format(triplets_file))\n",
    "    sagi_cli = 'full_path_to_tmc_wrapper/TMC/treeFromTriplets -fid {} -frtN {} -w 1 -index 2'.format(\n",
    "        triplets_file, output_newick)\n",
    "    return os.system(sagi_cli)"
   ]
  },
  {
   "cell_type": "code",
   "execution_count": 7,
   "metadata": {},
   "outputs": [
    {
     "data": {
      "text/plain": [
       "256"
      ]
     },
     "execution_count": 7,
     "metadata": {},
     "output_type": "execute_result"
    }
   ],
   "source": [
    "index_labeled_output_newick = '/tmp/index_labeled_triplets_test.newick'\n",
    "run_TMC(triplets_file, index_labeled_output_newick)"
   ]
  },
  {
   "cell_type": "code",
   "execution_count": 8,
   "metadata": {},
   "outputs": [],
   "source": [
    "newick_tree_path = '/tmp/triplets_test.newick'"
   ]
  },
  {
   "cell_type": "code",
   "execution_count": 9,
   "metadata": {},
   "outputs": [],
   "source": [
    "convert_names_in_sagis_newick(index_labeled_output_newick, newick_tree_path, cell_id_map_for_sagi)"
   ]
  }
 ],
 "metadata": {
  "kernelspec": {
   "display_name": "Python 3",
   "language": "python",
   "name": "python3"
  },
  "language_info": {
   "codemirror_mode": {
    "name": "ipython",
    "version": 3
   },
   "file_extension": ".py",
   "mimetype": "text/x-python",
   "name": "python",
   "nbconvert_exporter": "python",
   "pygments_lexer": "ipython3",
   "version": "3.6.7"
  }
 },
 "nbformat": 4,
 "nbformat_minor": 2
}
