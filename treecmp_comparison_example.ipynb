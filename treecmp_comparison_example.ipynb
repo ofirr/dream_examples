{
 "cells": [
  {
   "cell_type": "markdown",
   "metadata": {},
   "source": [
    "Reconstructing a lineage tree from mutation table"
   ]
  },
  {
   "cell_type": "code",
   "execution_count": 1,
   "metadata": {},
   "outputs": [],
   "source": [
    "import os\n",
    "import sys\n",
    "sys.path.append('path_to_examples')\n",
    "\n",
    "from utils import run_command\n",
    "\n",
    "import pandas as pd"
   ]
  },
  {
   "cell_type": "code",
   "execution_count": 2,
   "metadata": {},
   "outputs": [],
   "source": [
    "name = 'SubC3_train_000X'"
   ]
  },
  {
   "cell_type": "code",
   "execution_count": 3,
   "metadata": {},
   "outputs": [],
   "source": [
    "project_dir = 'path_to_Subchallenge3/{}'.format(name)"
   ]
  },
  {
   "cell_type": "markdown",
   "metadata": {},
   "source": [
    "\n",
    "Evaluating the tree reconstruction against a know reference using TreeCMP"
   ]
  },
  {
   "cell_type": "code",
   "execution_count": 4,
   "metadata": {},
   "outputs": [],
   "source": [
    "def compare(path_simulation_newick, path_reconstructed_newick, path_score_output):\n",
    "\n",
    "    path_treecmp = 'path_to_treecmp/bin/TreeCmp/bin/treeCmp.jar'\n",
    "    \n",
    "    #  Metrics for rooted trees\n",
    "    metrics = {\n",
    "        \"rooted\": \"rc rf tt\",\n",
    "        \"unrooted\": \"ms rf pd qt um\"\n",
    "    }\n",
    "\n",
    "    cmd = [\n",
    "        'java', '-jar', path_treecmp,\n",
    "        '-P', '-N', '-I'\n",
    "        '-r', path_simulation_newick,\n",
    "        '-i', path_reconstructed_newick,\n",
    "        '-o', path_score_output,\n",
    "        '-d'\n",
    "    ]\n",
    "\n",
    "    cmd.extend(metrics['rooted'].split(' '))\n",
    "\n",
    "    run_command(cmd)\n",
    "    \n",
    "    \n",
    "def get_scores(path_simulation_newick, path_reconstructed_newick, path_score_output):\n",
    "\n",
    "    compare(path_simulation_newick, path_reconstructed_newick, path_score_output)\n",
    "\n",
    "    df_metrics = pd.read_csv(\n",
    "        path_score_output,\n",
    "        sep='\\t',\n",
    "        nrows=1\n",
    "    )\n",
    "\n",
    "    return df_metrics"
   ]
  },
  {
   "cell_type": "code",
   "execution_count": 5,
   "metadata": {},
   "outputs": [],
   "source": [
    "scores = get_scores(\n",
    "    os.path.join(project_dir,os.path.join(project_dir,'{}_reference_tree.newick'.format(name))),\n",
    "    os.path.join(project_dir,os.path.join(project_dir,'{}_reconstructed_tree.newick'.format(name))),\n",
    "    '/tmp/scores.txt'\n",
    ")"
   ]
  },
  {
   "cell_type": "code",
   "execution_count": null,
   "metadata": {},
   "outputs": [],
   "source": [
    "for i, row in scores.iterrows():\n",
    "    n=row['Common_taxa']\n",
    "    rf_score = row['R-F']/(n-3)\n",
    "    triples = row['Triples']\n",
    "    triples_score = min(1.0, 3*triples/(2*scipy.special.comb(n, 3, repetition=False)))\n",
    "    print(rec_path, n, rf_score, triples_score)"
   ]
  }
 ],
 "metadata": {
  "kernelspec": {
   "display_name": "Python 3",
   "language": "python",
   "name": "python3"
  },
  "language_info": {
   "codemirror_mode": {
    "name": "ipython",
    "version": 3
   },
   "file_extension": ".py",
   "mimetype": "text/x-python",
   "name": "python",
   "nbconvert_exporter": "python",
   "pygments_lexer": "ipython3",
   "version": "3.6.7"
  }
 },
 "nbformat": 4,
 "nbformat_minor": 2
}
