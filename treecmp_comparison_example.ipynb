{
 "cells": [
  {
   "cell_type": "markdown",
   "metadata": {},
   "source": [
    "Reconstructing a lineage tree from mutation table"
   ]
  },
  {
   "cell_type": "code",
   "execution_count": 1,
   "metadata": {},
   "outputs": [],
   "source": [
    "import os\n",
    "import sys\n",
    "sys.path.append('path_to_examples')\n",
    "\n",
    "from utils import run_command\n",
    "\n",
    "import pandas as pd"
   ]
  },
  {
   "cell_type": "code",
   "execution_count": 2,
   "metadata": {},
   "outputs": [],
   "source": [
    "name = 'SubC3_train_000X'"
   ]
  },
  {
   "cell_type": "code",
   "execution_count": 3,
   "metadata": {},
   "outputs": [],
   "source": [
    "project_dir = 'path_to_Subchallenge3/{}'.format(name)"
   ]
  },
  {
   "cell_type": "markdown",
   "metadata": {},
   "source": [
    "\n",
    "Evaluating the tree reconstruction against a know reference using TreeCMP"
   ]
  },
  {
   "cell_type": "code",
   "execution_count": 4,
   "metadata": {},
   "outputs": [],
   "source": [
    "def compare(path_simulation_newick, path_reconstructed_newick, path_score_output):\n",
    "\n",
    "    path_treecmp = 'path_to_treecmp/bin/TreeCmp/bin/treeCmp.jar'\n",
    "    \n",
    "    #  Metrics for rooted trees\n",
    "    metrics = {\n",
    "        \"rooted\": \"rc rf tt\",\n",
    "        \"unrooted\": \"ms rf pd qt um\"\n",
    "    }\n",
    "\n",
    "    cmd = [\n",
    "        'java', '-jar', path_treecmp,\n",
    "        '-P', '-N', '-I'\n",
    "        '-r', path_simulation_newick,\n",
    "        '-i', path_reconstructed_newick,\n",
    "        '-o', path_score_output,\n",
    "        '-d'\n",
    "    ]\n",
    "\n",
    "    cmd.extend(metrics['rooted'].split(' '))\n",
    "\n",
    "    run_command(cmd)\n",
    "    \n",
    "    \n",
    "def get_scores(path_simulation_newick, path_reconstructed_newick, path_score_output):\n",
    "\n",
    "    compare(path_simulation_newick, path_reconstructed_newick, path_score_output)\n",
    "\n",
    "    df_metrics = pd.read_csv(\n",
    "        path_score_output,\n",
    "        sep='\\t',\n",
    "        nrows=1\n",
    "    )\n",
    "\n",
    "    return df_metrics"
   ]
  },
  {
   "cell_type": "code",
   "execution_count": 5,
   "metadata": {},
   "outputs": [],
   "source": [
    "scores = get_scores(\n",
    "    os.path.join(project_dir,os.path.join(project_dir,'{}_reference_tree.newick'.format(name))),\n",
    "    os.path.join(project_dir,os.path.join(project_dir,'{}_reconstructed_tree.newick'.format(name))),\n",
    "    '/tmp/scores.txt'\n",
    ")"
   ]
  },
  {
   "cell_type": "code",
   "execution_count": 6,
   "metadata": {},
   "outputs": [
    {
     "data": {
      "text/html": [
       "<div>\n",
       "<style scoped>\n",
       "    .dataframe tbody tr th:only-of-type {\n",
       "        vertical-align: middle;\n",
       "    }\n",
       "\n",
       "    .dataframe tbody tr th {\n",
       "        vertical-align: top;\n",
       "    }\n",
       "\n",
       "    .dataframe thead th {\n",
       "        text-align: right;\n",
       "    }\n",
       "</style>\n",
       "<table border=\"1\" class=\"dataframe\">\n",
       "  <thead>\n",
       "    <tr style=\"text-align: right;\">\n",
       "      <th></th>\n",
       "      <th>0</th>\n",
       "    </tr>\n",
       "  </thead>\n",
       "  <tbody>\n",
       "    <tr>\n",
       "      <th>No</th>\n",
       "      <td>1.000000e+00</td>\n",
       "    </tr>\n",
       "    <tr>\n",
       "      <th>RefTree</th>\n",
       "      <td>1.000000e+00</td>\n",
       "    </tr>\n",
       "    <tr>\n",
       "      <th>Tree</th>\n",
       "      <td>1.000000e+00</td>\n",
       "    </tr>\n",
       "    <tr>\n",
       "      <th>RefTree_taxa</th>\n",
       "      <td>5.810000e+02</td>\n",
       "    </tr>\n",
       "    <tr>\n",
       "      <th>Tree_taxa</th>\n",
       "      <td>5.820000e+02</td>\n",
       "    </tr>\n",
       "    <tr>\n",
       "      <th>Common_taxa</th>\n",
       "      <td>5.810000e+02</td>\n",
       "    </tr>\n",
       "    <tr>\n",
       "      <th>R-F_Cluster</th>\n",
       "      <td>1.915000e+02</td>\n",
       "    </tr>\n",
       "    <tr>\n",
       "      <th>R-F_Cluster_toYuleAvg</th>\n",
       "      <td>3.309000e-01</td>\n",
       "    </tr>\n",
       "    <tr>\n",
       "      <th>R-F_Cluster_toUnifAvg</th>\n",
       "      <td>3.308000e-01</td>\n",
       "    </tr>\n",
       "    <tr>\n",
       "      <th>R-F</th>\n",
       "      <td>1.910000e+02</td>\n",
       "    </tr>\n",
       "    <tr>\n",
       "      <th>R-F_toYuleAvg</th>\n",
       "      <td>3.306000e-01</td>\n",
       "    </tr>\n",
       "    <tr>\n",
       "      <th>R-F_toUnifAvg</th>\n",
       "      <td>3.305000e-01</td>\n",
       "    </tr>\n",
       "    <tr>\n",
       "      <th>Triples</th>\n",
       "      <td>8.575146e+06</td>\n",
       "    </tr>\n",
       "    <tr>\n",
       "      <th>Triples_toYuleAvg</th>\n",
       "      <td>3.958000e-01</td>\n",
       "    </tr>\n",
       "    <tr>\n",
       "      <th>Triples_toUnifAvg</th>\n",
       "      <td>3.958000e-01</td>\n",
       "    </tr>\n",
       "  </tbody>\n",
       "</table>\n",
       "</div>"
      ],
      "text/plain": [
       "                                  0\n",
       "No                     1.000000e+00\n",
       "RefTree                1.000000e+00\n",
       "Tree                   1.000000e+00\n",
       "RefTree_taxa           5.810000e+02\n",
       "Tree_taxa              5.820000e+02\n",
       "Common_taxa            5.810000e+02\n",
       "R-F_Cluster            1.915000e+02\n",
       "R-F_Cluster_toYuleAvg  3.309000e-01\n",
       "R-F_Cluster_toUnifAvg  3.308000e-01\n",
       "R-F                    1.910000e+02\n",
       "R-F_toYuleAvg          3.306000e-01\n",
       "R-F_toUnifAvg          3.305000e-01\n",
       "Triples                8.575146e+06\n",
       "Triples_toYuleAvg      3.958000e-01\n",
       "Triples_toUnifAvg      3.958000e-01"
      ]
     },
     "execution_count": 6,
     "metadata": {},
     "output_type": "execute_result"
    }
   ],
   "source": [
    "scores.T"
   ]
  },
  {
   "cell_type": "code",
   "execution_count": null,
   "metadata": {},
   "outputs": [],
   "source": []
  }
 ],
 "metadata": {
  "kernelspec": {
   "display_name": "Python 3",
   "language": "python",
   "name": "python3"
  },
  "language_info": {
   "codemirror_mode": {
    "name": "ipython",
    "version": 3
   },
   "file_extension": ".py",
   "mimetype": "text/x-python",
   "name": "python",
   "nbconvert_exporter": "python",
   "pygments_lexer": "ipython3",
   "version": "3.6.7"
  }
 },
 "nbformat": 4,
 "nbformat_minor": 2
}
