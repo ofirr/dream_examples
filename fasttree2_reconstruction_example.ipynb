{
 "cells": [
  {
   "cell_type": "markdown",
   "metadata": {},
   "source": [
    "Reconstructing a lineage tree from mutation table"
   ]
  },
  {
   "cell_type": "code",
   "execution_count": 1,
   "metadata": {},
   "outputs": [],
   "source": [
    "import os\n",
    "import sys\n",
    "sys.path.append('path_to_examples')\n",
    "\n",
    "from utils import run_command\n",
    "\n",
    "import pandas as pd"
   ]
  },
  {
   "cell_type": "code",
   "execution_count": 2,
   "metadata": {},
   "outputs": [],
   "source": [
    "project_dir = 'path_to_example'"
   ]
  },
  {
   "cell_type": "code",
   "execution_count": 3,
   "metadata": {},
   "outputs": [],
   "source": [
    "df = pd.read_csv(os.path.join(project_dir,'mutation_table.csv'), index_col='names')"
   ]
  },
  {
   "cell_type": "code",
   "execution_count": null,
   "metadata": {},
   "outputs": [],
   "source": [
    "# translate scar values to fake amino-acids characters"
   ]
  },
  {
   "cell_type": "code",
   "execution_count": 4,
   "metadata": {},
   "outputs": [],
   "source": [
    "symbol_map = {\n",
    "    0.0:'A',\n",
    "    '0':'A',\n",
    "    'A':'R',\n",
    "    'B':'N',\n",
    "    'C':'D',\n",
    "    'D':'C',\n",
    "    'E':'Q',\n",
    "    'F':'E',\n",
    "    'G':'G',\n",
    "    'H':'H',\n",
    "    'I':'I',\n",
    "    'J':'L',\n",
    "    'K':'K',\n",
    "    'L':'M',\n",
    "    'M':'F',\n",
    "    'N':'P',\n",
    "    'O':'S',\n",
    "    'P':'T',\n",
    "    'Q':'W',\n",
    "    'R':'Y',\n",
    "    'S':'-', # Skipping rare characters as we're running out of standard amino acids\n",
    "    'T':'-',\n",
    "    'U':'-',\n",
    "    'V':'-',\n",
    "    '-':'V', # Inherited deletion is treated as charcter as it carries information (unlike acquisition dropout)\n",
    "}"
   ]
  },
  {
   "cell_type": "code",
   "execution_count": 5,
   "metadata": {},
   "outputs": [],
   "source": [
    "for col in df.columns:\n",
    "    df[col] = df[col].map(symbol_map)\n",
    "df.fillna(\"-\",inplace=True)\n",
    "normalized_newick_path = os.path.join(project_dir,'ft2_data.fasta')  \n",
    "with open(normalized_newick_path, 'w') as f:\n",
    "    for sr, row in df.iterrows():\n",
    "        f.write('>{}\\r\\n{}\\r\\n'.format(sr, ''.join(row.values)))"
   ]
  },
  {
   "cell_type": "code",
   "execution_count": 6,
   "metadata": {},
   "outputs": [],
   "source": [
    "import dendropy\n",
    "\n",
    "fasttree_path = \"FastTree\"\n",
    "fasttree_transition_table = 'unified_transition_table_for_fastree.mat'\n",
    "\n",
    "def run_fasttree(newick_output_file, mutations_fasta_path):\n",
    "    run_command([fasttree_path, \n",
    "                 '-pseudo', \n",
    "                 '-trans', fasttree_transition_table,\n",
    "                 '-out', newick_output_file, \n",
    "                 mutations_fasta_path])\n",
    "    good_tree = dendropy.Tree.get_from_path(\n",
    "                        newick_output_file,\n",
    "                    \"newick\")\n",
    "    return good_tree"
   ]
  },
  {
   "cell_type": "code",
   "execution_count": 7,
   "metadata": {},
   "outputs": [],
   "source": [
    "newick_output_file = os.path.join(project_dir,'FT2.newick')\n",
    "rec_tree = run_fasttree(newick_output_file, normalized_newick_path)"
   ]
  },
  {
   "cell_type": "code",
   "execution_count": 8,
   "metadata": {
    "scrolled": false
   },
   "outputs": [
    {
     "name": "stdout",
     "output_type": "stream",
     "text": [
      "                           /------------------ Run1 Skin 14707         \n",
      "                           |                                           \n",
      "                       /---+    /------------- Run1 Neuron 21812       \n",
      "                       |   |    |                                      \n",
      "                       |   \\----+   /--------- Run1 Smooth Muscle 25030\n",
      "                       |        |   |                                  \n",
      "                       |        \\---+    /---- Run1 Smooth Muscle 25027\n",
      "                       |            |    |                             \n",
      "                  /----+            |    |---- Run1 Skin 14727         \n",
      "                  |    |            \\----+                             \n",
      "                  |    |                 |---- Run1 Pigment 15812      \n",
      "                  |    |                 |                             \n",
      "                  |    |                 \\---- Run1 Pigment 15822      \n",
      "                  |    |                                               \n",
      "/-----------------+    \\---------------------- Run1 Pigment 15802      \n",
      "|                 |                                                    \n",
      "|                 |                      /---- Run1 Smooth Muscle 25060\n",
      "|                 |                      |                             \n",
      "|                 |                      |---- Run1 Smooth Muscle 25084\n",
      "|                 |                      |                             \n",
      "|                 |                      |---- Run1 Neuron 21802       \n",
      "|                 \\----------------------+                             \n",
      "|                                        |---- Run1 Neuron 21828       \n",
      "|                                        |                             \n",
      "|                                        |---- Run1 Neuron 21839       \n",
      "|                                        |                             \n",
      "|                                        \\---- Run1 Neuron 21842       \n",
      "|                                                                      \n",
      "|        /------------------------------------ root                    \n",
      "|        |                                                             \n",
      "|        |                               /---- Run1 Skin 14693         \n",
      "|        |                               |                             \n",
      "|        |                               |---- Run1 Neuron 21789       \n",
      "|        |                          /----+                             \n",
      "|        |                          |    |---- Run1 Neuron 21836       \n",
      "|        |   /----------------------+    |                             \n",
      "|        |   |                      |    \\---- Run1 Pigment 15819      \n",
      "|   /----+   |                      |                                  \n",
      "|   |    |   |                      \\--------- Run1 Pigment 15823      \n",
      "|   |    |   |                                                         \n",
      "|   |    |   |    /--------------------------- Run1 Neuron 21821       \n",
      "|   |    |   |    |                                                    \n",
      "|   |    |   |    |                      /---- Run1 Cardiac 6652       \n",
      "|   |    |   |    |                      |                             \n",
      "|   |    |   |    |        /-------------+---- Run1 Pigment 15774      \n",
      "|   |    |   |    |        |             |                             \n",
      "|   |    \\---+    |        |             \\---- Run1 Pigment 15786      \n",
      "|   |        |    |        |                                           \n",
      "|   |        |    |        |             /---- Run1 Cardiac 6643       \n",
      "|   |        |    |        |             |                             \n",
      "|   |        |    |        |             |---- Run1 Cardiac 6655       \n",
      "|   |        |    |        |             |                             \n",
      "|   |        |    |        |             |---- Run1 Tubule kidney 4910 \n",
      "|   |        |    |        |             |                             \n",
      "|   |        |    |        |             |---- Run1 Tubule kidney 4916 \n",
      "|   |        |    |        |             |                             \n",
      "|   |        |    |        |             |---- Run1 Tubule kidney 4920 \n",
      "|   |        |    |        |             |                             \n",
      "|   |        \\----+        |             |---- Run1 Tubule kidney 4922 \n",
      "+   |             |        |             |                             \n",
      "|   |             |    /---+             |---- Run1 Smooth Muscle 25075\n",
      "|   |             |    |   |             |                             \n",
      "|   |             |    |   |             |---- Run1 Skin 14672         \n",
      "|   |             |    |   |             |                             \n",
      "|   |             |    |   |             |---- Run1 Skin 14716         \n",
      "|   |             |    |   |    /--------+                             \n",
      "|---+             |    |   |    |        |---- Run1 Skin 14722         \n",
      "|   |             |    |   |    |        |                             \n",
      "|   |             |    |   |    |        |---- Run1 Skin 14725         \n",
      "|   |             |    |   |    |        |                             \n",
      "|   |             |    |   |    |        |---- Run1 Neuron 21833       \n",
      "|   |             |    |   |    |        |                             \n",
      "|   |             |    |   |    |        |---- Run1 Neuron 21834       \n",
      "|   |             |    |   |    |        |                             \n",
      "|   |             |    |   |    |        |---- Run1 Pigment 15777      \n",
      "|   |             |    |   |    |        |                             \n",
      "|   |             \\----+   \\----+        |---- Run1 Pigment 15790      \n",
      "|   |                  |        |        |                             \n",
      "|   |                  |        |        |---- Run1 Pigment 15797      \n",
      "|   |                  |        |        |                             \n",
      "|   |                  |        |        |---- Run1 Pigment 15803      \n",
      "|   |                  |        |        |                             \n",
      "|   |                  |        |        \\---- Run1 Pigment 15817      \n",
      "|   |                  |        |                                      \n",
      "|   |                  |        |        /---- Run1 Smooth Muscle 25037\n",
      "|   |                  |        |        |                             \n",
      "|   |                  |        |   /----+---- Run1 Smooth Muscle 25086\n",
      "|   |                  |        |   |    |                             \n",
      "|   |                  |        \\---+    \\---- Run1 Neuron 21823       \n",
      "|   |                  |            |                                  \n",
      "|   |                  |            \\--------- Run1 Smooth Muscle 25074\n",
      "|   |                  |                                               \n",
      "|   |                  \\---------------------- Run1 Cardiac 6662       \n",
      "|   |                                                                  \n",
      "|   |                               /--------- Run1 Skeletal 2800      \n",
      "|   |                               |                                  \n",
      "|   \\-------------------------------+    /---- Run1 Skeletal 2801      \n",
      "|                                   |    |                             \n",
      "|                                   |    |---- Run1 Smooth Muscle 25021\n",
      "|                                   \\----+                             \n",
      "|                                        |---- Run1 Smooth Muscle 25035\n",
      "|                                        |                             \n",
      "|                                        \\---- Run1 Smooth Muscle 25070\n",
      "|                                                                      \n",
      "|                               /------------- Run1 Smooth Muscle 25068\n",
      "\\-------------------------------+                                      \n",
      "                                |   /--------- Run1 Neuron 21816       \n",
      "                                \\---+                                  \n",
      "                                    |    /---- Run1 Smooth Muscle 25062\n",
      "                                    \\----+                             \n",
      "                                         \\---- Run1 Smooth Muscle 25081\n",
      "                                                                       \n",
      "                                                                       \n"
     ]
    }
   ],
   "source": [
    "print(rec_tree.as_ascii_plot())"
   ]
  },
  {
   "cell_type": "code",
   "execution_count": null,
   "metadata": {},
   "outputs": [],
   "source": []
  }
 ],
 "metadata": {
  "kernelspec": {
   "display_name": "Python 3",
   "language": "python",
   "name": "python3"
  },
  "language_info": {
   "codemirror_mode": {
    "name": "ipython",
    "version": 3
   },
   "file_extension": ".py",
   "mimetype": "text/x-python",
   "name": "python",
   "nbconvert_exporter": "python",
   "pygments_lexer": "ipython3",
   "version": "3.6.7"
  }
 },
 "nbformat": 4,
 "nbformat_minor": 2
}
