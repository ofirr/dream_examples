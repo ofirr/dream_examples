{
 "cells": [
  {
   "cell_type": "code",
   "execution_count": 1,
   "metadata": {},
   "outputs": [],
   "source": [
    "import os\n",
    "import dendropy"
   ]
  },
  {
   "cell_type": "code",
   "execution_count": 2,
   "metadata": {},
   "outputs": [],
   "source": [
    "project_dir = '/home/dcsoft/s/Ofir/DRAEM/pablo/sc2/'\n",
    "tns = dendropy.TaxonNamespace()\n",
    "ref_tree = dendropy.Tree.get_from_path(\n",
    "    os.path.join(project_dir,'SubC2_TEST_tree_IDs_root_rooted.nw'),'newick', taxon_namespace=tns, preserve_underscores=True)"
   ]
  },
  {
   "cell_type": "code",
   "execution_count": 3,
   "metadata": {},
   "outputs": [],
   "source": [
    "relevant_taxa_labels = ['x_0828','x_0527','x_0248','x_0205','x_0811','x_0446','x_0551','x_0137','x_0861','x_0733',]\n",
    "relevant_taxa = tns.get_taxa(relevant_taxa_labels)"
   ]
  },
  {
   "cell_type": "code",
   "execution_count": 4,
   "metadata": {},
   "outputs": [],
   "source": [
    "sub_ref = ref_tree.extract_tree_with_taxa(relevant_taxa)"
   ]
  },
  {
   "cell_type": "code",
   "execution_count": 5,
   "metadata": {},
   "outputs": [
    {
     "name": "stdout",
     "output_type": "stream",
     "text": [
      "                                                         /-------------- x_0828\n",
      "                                           /-------------+                     \n",
      "                            /--------------+             \\-------------- x_0527\n",
      "                            |              |                                   \n",
      "              /-------------+              \\---------------------------- x_0248\n",
      "              |             |                                                  \n",
      "              |             |                            /-------------- x_0205\n",
      "/-------------+             \\----------------------------+                     \n",
      "|             |                                          \\-------------- x_0811\n",
      "|             |                                                                \n",
      "+             \\--------------------------------------------------------- x_0446\n",
      "|                                                                              \n",
      "|                           /------------------------------------------- x_0551\n",
      "|                           |                                                  \n",
      "\\---------------------------+                            /-------------- x_0137\n",
      "                            |              /-------------+                     \n",
      "                            \\--------------+             \\-------------- x_0861\n",
      "                                           |                                   \n",
      "                                           \\---------------------------- x_0733\n",
      "                                                                               \n",
      "                                                                               \n"
     ]
    }
   ],
   "source": [
    "print(sub_ref.as_ascii_plot())"
   ]
  },
  {
   "cell_type": "code",
   "execution_count": 6,
   "metadata": {},
   "outputs": [],
   "source": [
    "def get_non_trivial_partitions(tree):\n",
    "    leaves = set(tree.leaf_nodes())\n",
    "    total = len(leaves)\n",
    "    for n in tree.nodes():\n",
    "        if len(n.leaf_nodes()) == 1:\n",
    "            continue\n",
    "        if len(n.leaf_nodes()) == total:\n",
    "            continue\n",
    "        p1 = frozenset({l.taxon.label for l in n.leaf_nodes()})\n",
    "        yield p1"
   ]
  },
  {
   "cell_type": "code",
   "execution_count": 7,
   "metadata": {},
   "outputs": [
    {
     "name": "stdout",
     "output_type": "stream",
     "text": [
      "\"frozenset({'x_0248', 'x_0828', 'x_0811', 'x_0446', 'x_0527', 'x_0205'})\" Kwak_Gong True\n",
      "\"frozenset({'x_0248', 'x_0828', 'x_0811', 'x_0446', 'x_0527', 'x_0205'})\" SanGuo1 False\n",
      "\"frozenset({'x_0248', 'x_0828', 'x_0811', 'x_0446', 'x_0527', 'x_0205'})\" YFG_Hanrui True\n",
      "\"frozenset({'x_0248', 'x_0828', 'x_0811', 'x_0446', 'x_0527', 'x_0205'})\" Yosef_Lab True\n",
      "\"frozenset({'x_0248', 'x_0828', 'x_0811', 'x_0446', 'x_0527', 'x_0205'})\" Jasper06 True\n",
      "\"frozenset({'x_0248', 'x_0828', 'x_0811', 'x_0446', 'x_0527', 'x_0205'})\" submissions True\n",
      "\"frozenset({'x_0248', 'x_0828', 'x_0811', 'x_0527', 'x_0205'})\" Kwak_Gong True\n",
      "\"frozenset({'x_0248', 'x_0828', 'x_0811', 'x_0527', 'x_0205'})\" SanGuo1 False\n",
      "\"frozenset({'x_0248', 'x_0828', 'x_0811', 'x_0527', 'x_0205'})\" YFG_Hanrui True\n",
      "\"frozenset({'x_0248', 'x_0828', 'x_0811', 'x_0527', 'x_0205'})\" Yosef_Lab False\n",
      "\"frozenset({'x_0248', 'x_0828', 'x_0811', 'x_0527', 'x_0205'})\" Jasper06 False\n",
      "\"frozenset({'x_0248', 'x_0828', 'x_0811', 'x_0527', 'x_0205'})\" submissions True\n",
      "\"frozenset({'x_0828', 'x_0248', 'x_0527'})\" Kwak_Gong True\n",
      "\"frozenset({'x_0828', 'x_0248', 'x_0527'})\" SanGuo1 False\n",
      "\"frozenset({'x_0828', 'x_0248', 'x_0527'})\" YFG_Hanrui True\n",
      "\"frozenset({'x_0828', 'x_0248', 'x_0527'})\" Yosef_Lab True\n",
      "\"frozenset({'x_0828', 'x_0248', 'x_0527'})\" Jasper06 True\n",
      "\"frozenset({'x_0828', 'x_0248', 'x_0527'})\" submissions True\n",
      "\"frozenset({'x_0828', 'x_0527'})\" Kwak_Gong True\n",
      "\"frozenset({'x_0828', 'x_0527'})\" SanGuo1 False\n",
      "\"frozenset({'x_0828', 'x_0527'})\" YFG_Hanrui True\n",
      "\"frozenset({'x_0828', 'x_0527'})\" Yosef_Lab True\n",
      "\"frozenset({'x_0828', 'x_0527'})\" Jasper06 True\n",
      "\"frozenset({'x_0828', 'x_0527'})\" submissions True\n",
      "\"frozenset({'x_0205', 'x_0811'})\" Kwak_Gong False\n",
      "\"frozenset({'x_0205', 'x_0811'})\" SanGuo1 False\n",
      "\"frozenset({'x_0205', 'x_0811'})\" YFG_Hanrui False\n",
      "\"frozenset({'x_0205', 'x_0811'})\" Yosef_Lab False\n",
      "\"frozenset({'x_0205', 'x_0811'})\" Jasper06 False\n",
      "\"frozenset({'x_0205', 'x_0811'})\" submissions False\n",
      "\"frozenset({'x_0137', 'x_0861', 'x_0733', 'x_0551'})\" Kwak_Gong True\n",
      "\"frozenset({'x_0137', 'x_0861', 'x_0733', 'x_0551'})\" SanGuo1 False\n",
      "\"frozenset({'x_0137', 'x_0861', 'x_0733', 'x_0551'})\" YFG_Hanrui False\n",
      "\"frozenset({'x_0137', 'x_0861', 'x_0733', 'x_0551'})\" Yosef_Lab False\n",
      "\"frozenset({'x_0137', 'x_0861', 'x_0733', 'x_0551'})\" Jasper06 True\n",
      "\"frozenset({'x_0137', 'x_0861', 'x_0733', 'x_0551'})\" submissions True\n",
      "\"frozenset({'x_0861', 'x_0733', 'x_0137'})\" Kwak_Gong False\n",
      "\"frozenset({'x_0861', 'x_0733', 'x_0137'})\" SanGuo1 False\n",
      "\"frozenset({'x_0861', 'x_0733', 'x_0137'})\" YFG_Hanrui False\n",
      "\"frozenset({'x_0861', 'x_0733', 'x_0137'})\" Yosef_Lab True\n",
      "\"frozenset({'x_0861', 'x_0733', 'x_0137'})\" Jasper06 False\n",
      "\"frozenset({'x_0861', 'x_0733', 'x_0137'})\" submissions False\n",
      "\"frozenset({'x_0861', 'x_0137'})\" Kwak_Gong False\n",
      "\"frozenset({'x_0861', 'x_0137'})\" SanGuo1 True\n",
      "\"frozenset({'x_0861', 'x_0137'})\" YFG_Hanrui False\n",
      "\"frozenset({'x_0861', 'x_0137'})\" Yosef_Lab False\n",
      "\"frozenset({'x_0861', 'x_0137'})\" Jasper06 False\n",
      "\"frozenset({'x_0861', 'x_0137'})\" submissions False\n"
     ]
    }
   ],
   "source": [
    "for p in get_non_trivial_partitions(sub_ref):\n",
    "    \n",
    "    for rec in ['Kwak_Gong_rooted.nw',\n",
    "        'SanGuo1_rooted.nw',\n",
    "        'YFG_Hanrui_rooted.nw',\n",
    "        'Yosef_Lab_rooted.nw',\n",
    "        'Jasper06_rooted.nw',\n",
    "        'submissions_merged.nw',]:\n",
    "        rec_tree = dendropy.Tree.get_from_path(\n",
    "            os.path.join(project_dir,rec),'newick', taxon_namespace=tns, preserve_underscores=True)\n",
    "        sub_rec = rec_tree.extract_tree_with_taxa(relevant_taxa)\n",
    "        print('\"{}\"'.format(p), rec[:-10], p in set(get_non_trivial_partitions(sub_rec)))"
   ]
  },
  {
   "cell_type": "code",
   "execution_count": null,
   "metadata": {},
   "outputs": [],
   "source": []
  }
 ],
 "metadata": {
  "kernelspec": {
   "display_name": "Python 3",
   "language": "python",
   "name": "python3"
  },
  "language_info": {
   "codemirror_mode": {
    "name": "ipython",
    "version": 3
   },
   "file_extension": ".py",
   "mimetype": "text/x-python",
   "name": "python",
   "nbconvert_exporter": "python",
   "pygments_lexer": "ipython3",
   "version": "3.6.7"
  }
 },
 "nbformat": 4,
 "nbformat_minor": 4
}
